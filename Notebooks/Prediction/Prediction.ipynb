{
 "cells": [
  {
   "cell_type": "code",
   "execution_count": 25,
   "id": "75e79b0c-09bf-445c-b11b-67863157d9b9",
   "metadata": {},
   "outputs": [],
   "source": [
    "import pandas as pd"
   ]
  },
  {
   "cell_type": "code",
   "execution_count": 28,
   "id": "635aaefd-9413-483b-b65f-546d7d4ef15b",
   "metadata": {},
   "outputs": [
    {
     "data": {
      "text/plain": [
       "Index(['state', 'capital_district', 'N', 'P', 'K', 'temperature', 'humidity',\n",
       "       'ph', 'rainfall', 'label_number'],\n",
       "      dtype='object')"
      ]
     },
     "execution_count": 28,
     "metadata": {},
     "output_type": "execute_result"
    }
   ],
   "source": [
    "district_data = pd.read_csv('state_capital_crop_data.csv')\n",
    "\n",
    "district_data.columns"
   ]
  },
  {
   "cell_type": "code",
   "execution_count": null,
   "id": "ea45fa04-972a-465d-911b-c45a5277a041",
   "metadata": {},
   "outputs": [],
   "source": []
  },
  {
   "cell_type": "markdown",
   "id": "c3b424fc-3585-494b-a141-21ddf4f51139",
   "metadata": {},
   "source": [
    "* ### Prediction with user input of State and District"
   ]
  },
  {
   "cell_type": "markdown",
   "id": "3362458b-824b-4569-83e1-1d0b7d2d7433",
   "metadata": {},
   "source": [
    "##### Saving in a dictionary the Model name and its predicted label"
   ]
  },
  {
   "cell_type": "code",
   "execution_count": 49,
   "id": "dff97158-bc20-420a-92f2-7c7bfafe6d4b",
   "metadata": {},
   "outputs": [
    {
     "name": "stdout",
     "output_type": "stream",
     "text": [
      "\n",
      "🌱 Crop Recommendation by State and District 🌱\n"
     ]
    },
    {
     "name": "stdin",
     "output_type": "stream",
     "text": [
      "Enter State name:  West Bengal\n",
      "Enter District name:  Kolkata\n"
     ]
    },
    {
     "name": "stdout",
     "output_type": "stream",
     "text": [
      "\n",
      "Predictions from all models (as numeric labels):\n",
      "\n",
      "Logistic Regression      : 16\n",
      "Naive Bayes              : 16\n",
      "Random Forest            : 16\n",
      "SVC                      : 16\n",
      "XGBoost                  : 4\n",
      "\n",
      "📦 All Predictions Dictionary:\n",
      "{'Logistic Regression': 16, 'Naive Bayes': 16, 'Random Forest': 16, 'SVC': 16, 'XGBoost': 4}\n"
     ]
    }
   ],
   "source": [
    "import os\n",
    "import joblib\n",
    "from sklearn.preprocessing import StandardScaler\n",
    "import warnings\n",
    "warnings.filterwarnings('ignore')\n",
    "\n",
    "# Copy the original dataframe\n",
    "df = district_data.copy()\n",
    "\n",
    "# Define the numeric feature columns\n",
    "feature_cols = ['N', 'P', 'K', 'temperature', 'humidity', 'ph', 'rainfall']\n",
    "\n",
    "# Ensure feature columns are numeric\n",
    "df[feature_cols] = df[feature_cols].apply(pd.to_numeric, errors='coerce')\n",
    "\n",
    "# Drop rows with missing values in features (optional but recommended)\n",
    "df.dropna(subset=feature_cols, inplace=True)\n",
    "\n",
    "# Load the pre-saved scaler\n",
    "scaler = joblib.load('Scaler/scaler.pkl')\n",
    "\n",
    "# Apply scaler to just the numeric features\n",
    "df[feature_cols] = scaler.transform(df[feature_cols])\n",
    "\n",
    "# Take user input\n",
    "print(\"\\n🌱 Crop Recommendation by State and District 🌱\")\n",
    "state = input(\"Enter State name: \")\n",
    "district = input(\"Enter District name: \")\n",
    "\n",
    "# Filter the matching row from the scaled dataframe\n",
    "input_row = df[\n",
    "    (df['state'].str.lower() == state.lower()) &\n",
    "    (df['capital_district'].str.lower() == district.lower())\n",
    "]\n",
    "\n",
    "if input_row.empty:\n",
    "    print(\"❌ No data found for the given State and District.\")\n",
    "else:\n",
    "    # Extract the scaled features\n",
    "    input_features = input_row[feature_cols].values\n",
    "\n",
    "    print(\"\\nPredictions from all models (as numeric labels):\\n\")\n",
    "\n",
    "    # Store predictions in a dictionary\n",
    "    predictions_dict = {}\n",
    "\n",
    "    # Predict using all models in Saved_models\n",
    "    model_folder = 'Saved_models'\n",
    "    for file in os.listdir(model_folder):\n",
    "        if file.endswith('.pkl'):\n",
    "            model_path = os.path.join(model_folder, file)\n",
    "            model = joblib.load(model_path)\n",
    "            model_name = file.replace('.pkl', '')\n",
    "\n",
    "            prediction = model.predict(input_features)[0]\n",
    "            predictions_dict[model_name] = prediction\n",
    "\n",
    "            print(f\"{model_name:<25}: {prediction}\")\n",
    "\n",
    "print(\"\\n📦 All Predictions Dictionary:\")\n",
    "print(predictions_dict)\n"
   ]
  },
  {
   "cell_type": "markdown",
   "id": "2362e3a4-b5f8-4d93-80d0-4fa56aaa84ab",
   "metadata": {},
   "source": [
    "##### The label predicte most time is treated as correct prediction"
   ]
  },
  {
   "cell_type": "code",
   "execution_count": 50,
   "id": "e9f3572c-7a6c-4fc3-97b9-a361d5f6eeb6",
   "metadata": {},
   "outputs": [
    {
     "name": "stdout",
     "output_type": "stream",
     "text": [
      "✅ Final Recommended Crop: orange\n",
      "Label Number: 16 | Votes: 4\n"
     ]
    }
   ],
   "source": [
    "from collections import Counter\n",
    "\n",
    "# Get list of predictions\n",
    "predictions_list = list(predictions_dict.values())\n",
    "\n",
    "# Count votes\n",
    "vote_counts = Counter(predictions_list)\n",
    "\n",
    "# Find most common label\n",
    "most_common_label, vote_count = vote_counts.most_common(1)[0]\n",
    "\n",
    "# Load label mapping from CSV\n",
    "label_map = pd.read_csv(\"Label_numbers.csv\")  # CSV with columns: 'label', 'crop'\n",
    "label_to_crop = dict(zip(label_map['Number'], label_map['Name']))\n",
    "\n",
    "# Get final crop name\n",
    "final_crop = label_to_crop.get(most_common_label, \"Unknown Crop\")\n",
    "\n",
    "#  Print result\n",
    "print(f\"✅ Final Recommended Crop: {final_crop}\")\n",
    "print(f\"Label Number: {most_common_label} | Votes: {vote_count}\")\n"
   ]
  },
  {
   "cell_type": "code",
   "execution_count": null,
   "id": "983e2ac6-7b67-455e-aa88-84f38569d1a6",
   "metadata": {},
   "outputs": [],
   "source": []
  }
 ],
 "metadata": {
  "kernelspec": {
   "display_name": "Python 3 (ipykernel)",
   "language": "python",
   "name": "python3"
  },
  "language_info": {
   "codemirror_mode": {
    "name": "ipython",
    "version": 3
   },
   "file_extension": ".py",
   "mimetype": "text/x-python",
   "name": "python",
   "nbconvert_exporter": "python",
   "pygments_lexer": "ipython3",
   "version": "3.12.4"
  }
 },
 "nbformat": 4,
 "nbformat_minor": 5
}
