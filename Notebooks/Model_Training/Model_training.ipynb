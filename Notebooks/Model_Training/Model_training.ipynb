{
 "cells": [
  {
   "cell_type": "code",
   "execution_count": 1,
   "id": "87e45159-d3c5-4789-ad45-06cabcccabf2",
   "metadata": {},
   "outputs": [],
   "source": [
    "import numpy as np\n",
    "import pandas as pd\n",
    "import matplotlib.pyplot as plt\n",
    "import seaborn as sns\n",
    "\n",
    "import warnings\n",
    "warnings.filterwarnings('ignore')"
   ]
  },
  {
   "cell_type": "code",
   "execution_count": 2,
   "id": "99172e3e-6cc1-4301-b577-15b6b4e24600",
   "metadata": {},
   "outputs": [
    {
     "data": {
      "text/html": [
       "<div>\n",
       "<style scoped>\n",
       "    .dataframe tbody tr th:only-of-type {\n",
       "        vertical-align: middle;\n",
       "    }\n",
       "\n",
       "    .dataframe tbody tr th {\n",
       "        vertical-align: top;\n",
       "    }\n",
       "\n",
       "    .dataframe thead th {\n",
       "        text-align: right;\n",
       "    }\n",
       "</style>\n",
       "<table border=\"1\" class=\"dataframe\">\n",
       "  <thead>\n",
       "    <tr style=\"text-align: right;\">\n",
       "      <th></th>\n",
       "      <th>N</th>\n",
       "      <th>P</th>\n",
       "      <th>K</th>\n",
       "      <th>temperature</th>\n",
       "      <th>humidity</th>\n",
       "      <th>ph</th>\n",
       "      <th>rainfall</th>\n",
       "      <th>label</th>\n",
       "    </tr>\n",
       "  </thead>\n",
       "  <tbody>\n",
       "    <tr>\n",
       "      <th>0</th>\n",
       "      <td>1.068797</td>\n",
       "      <td>-0.341922</td>\n",
       "      <td>0.197128</td>\n",
       "      <td>-0.935587</td>\n",
       "      <td>0.472666</td>\n",
       "      <td>0.043302</td>\n",
       "      <td>1.973430</td>\n",
       "      <td>20</td>\n",
       "    </tr>\n",
       "    <tr>\n",
       "      <th>1</th>\n",
       "      <td>0.933329</td>\n",
       "      <td>0.167308</td>\n",
       "      <td>0.111858</td>\n",
       "      <td>-0.759646</td>\n",
       "      <td>0.397051</td>\n",
       "      <td>0.734873</td>\n",
       "      <td>2.186623</td>\n",
       "      <td>20</td>\n",
       "    </tr>\n",
       "    <tr>\n",
       "      <th>2</th>\n",
       "      <td>0.255986</td>\n",
       "      <td>0.071827</td>\n",
       "      <td>0.239763</td>\n",
       "      <td>-0.515898</td>\n",
       "      <td>0.486954</td>\n",
       "      <td>1.771510</td>\n",
       "      <td>2.186623</td>\n",
       "      <td>20</td>\n",
       "    </tr>\n",
       "    <tr>\n",
       "      <th>3</th>\n",
       "      <td>0.635298</td>\n",
       "      <td>-0.564710</td>\n",
       "      <td>0.069223</td>\n",
       "      <td>0.172807</td>\n",
       "      <td>0.389805</td>\n",
       "      <td>0.660308</td>\n",
       "      <td>2.186623</td>\n",
       "      <td>20</td>\n",
       "    </tr>\n",
       "    <tr>\n",
       "      <th>4</th>\n",
       "      <td>0.743673</td>\n",
       "      <td>-0.341922</td>\n",
       "      <td>0.154493</td>\n",
       "      <td>-1.083647</td>\n",
       "      <td>0.454792</td>\n",
       "      <td>1.497868</td>\n",
       "      <td>2.186623</td>\n",
       "      <td>20</td>\n",
       "    </tr>\n",
       "    <tr>\n",
       "      <th>...</th>\n",
       "      <td>...</td>\n",
       "      <td>...</td>\n",
       "      <td>...</td>\n",
       "      <td>...</td>\n",
       "      <td>...</td>\n",
       "      <td>...</td>\n",
       "      <td>...</td>\n",
       "      <td>...</td>\n",
       "    </tr>\n",
       "    <tr>\n",
       "      <th>2195</th>\n",
       "      <td>1.529390</td>\n",
       "      <td>-0.596536</td>\n",
       "      <td>-0.271855</td>\n",
       "      <td>0.228814</td>\n",
       "      <td>-0.227709</td>\n",
       "      <td>0.401395</td>\n",
       "      <td>1.481563</td>\n",
       "      <td>5</td>\n",
       "    </tr>\n",
       "    <tr>\n",
       "      <th>2196</th>\n",
       "      <td>1.312641</td>\n",
       "      <td>-1.201247</td>\n",
       "      <td>-0.485030</td>\n",
       "      <td>0.355720</td>\n",
       "      <td>-0.666947</td>\n",
       "      <td>-0.494413</td>\n",
       "      <td>0.507059</td>\n",
       "      <td>5</td>\n",
       "    </tr>\n",
       "    <tr>\n",
       "      <th>2197</th>\n",
       "      <td>1.827421</td>\n",
       "      <td>-0.628363</td>\n",
       "      <td>-0.357125</td>\n",
       "      <td>-0.293218</td>\n",
       "      <td>-0.191235</td>\n",
       "      <td>-0.138120</td>\n",
       "      <td>1.394538</td>\n",
       "      <td>5</td>\n",
       "    </tr>\n",
       "    <tr>\n",
       "      <th>2198</th>\n",
       "      <td>1.800327</td>\n",
       "      <td>-0.660190</td>\n",
       "      <td>-0.186586</td>\n",
       "      <td>0.129612</td>\n",
       "      <td>-0.869518</td>\n",
       "      <td>0.373904</td>\n",
       "      <td>0.492411</td>\n",
       "      <td>5</td>\n",
       "    </tr>\n",
       "    <tr>\n",
       "      <th>2199</th>\n",
       "      <td>1.448109</td>\n",
       "      <td>-1.105766</td>\n",
       "      <td>-0.357125</td>\n",
       "      <td>-0.397667</td>\n",
       "      <td>-0.498020</td>\n",
       "      <td>0.401096</td>\n",
       "      <td>0.761436</td>\n",
       "      <td>5</td>\n",
       "    </tr>\n",
       "  </tbody>\n",
       "</table>\n",
       "<p>2200 rows × 8 columns</p>\n",
       "</div>"
      ],
      "text/plain": [
       "             N         P         K  temperature  humidity        ph  rainfall  \\\n",
       "0     1.068797 -0.341922  0.197128    -0.935587  0.472666  0.043302  1.973430   \n",
       "1     0.933329  0.167308  0.111858    -0.759646  0.397051  0.734873  2.186623   \n",
       "2     0.255986  0.071827  0.239763    -0.515898  0.486954  1.771510  2.186623   \n",
       "3     0.635298 -0.564710  0.069223     0.172807  0.389805  0.660308  2.186623   \n",
       "4     0.743673 -0.341922  0.154493    -1.083647  0.454792  1.497868  2.186623   \n",
       "...        ...       ...       ...          ...       ...       ...       ...   \n",
       "2195  1.529390 -0.596536 -0.271855     0.228814 -0.227709  0.401395  1.481563   \n",
       "2196  1.312641 -1.201247 -0.485030     0.355720 -0.666947 -0.494413  0.507059   \n",
       "2197  1.827421 -0.628363 -0.357125    -0.293218 -0.191235 -0.138120  1.394538   \n",
       "2198  1.800327 -0.660190 -0.186586     0.129612 -0.869518  0.373904  0.492411   \n",
       "2199  1.448109 -1.105766 -0.357125    -0.397667 -0.498020  0.401096  0.761436   \n",
       "\n",
       "      label  \n",
       "0        20  \n",
       "1        20  \n",
       "2        20  \n",
       "3        20  \n",
       "4        20  \n",
       "...     ...  \n",
       "2195      5  \n",
       "2196      5  \n",
       "2197      5  \n",
       "2198      5  \n",
       "2199      5  \n",
       "\n",
       "[2200 rows x 8 columns]"
      ]
     },
     "execution_count": 2,
     "metadata": {},
     "output_type": "execute_result"
    }
   ],
   "source": [
    "data = pd.read_csv('Cleaned_dataset.csv')\n",
    "\n",
    "data"
   ]
  },
  {
   "cell_type": "markdown",
   "id": "77da0a44-fc3e-4d70-84e1-8d81acdfe03c",
   "metadata": {},
   "source": [
    "* ### Splitting into X and y"
   ]
  },
  {
   "cell_type": "code",
   "execution_count": 5,
   "id": "5292473c-d883-4ef4-83db-46e01fed37b5",
   "metadata": {},
   "outputs": [],
   "source": [
    "X = data.drop('label', axis=1)\n",
    "y = data['label']"
   ]
  },
  {
   "cell_type": "markdown",
   "id": "351d2e34-ec89-4d59-8e63-43161361ce0b",
   "metadata": {},
   "source": [
    "* ### Train-Test-Split"
   ]
  },
  {
   "cell_type": "code",
   "execution_count": 8,
   "id": "63917e61-6e2c-4ff5-9d63-ca0c342ae565",
   "metadata": {},
   "outputs": [
    {
     "name": "stdout",
     "output_type": "stream",
     "text": [
      "Train Test Split successful!\n",
      "(1760, 7) (440, 7)\n"
     ]
    }
   ],
   "source": [
    "from sklearn.model_selection import train_test_split\n",
    "\n",
    "X_train, X_test, y_train, y_test = train_test_split(X, y, test_size=0.2, random_state=42)\n",
    "\n",
    "print(\"Train Test Split successful!\")\n",
    "print(X_train.shape, X_test.shape)"
   ]
  },
  {
   "cell_type": "markdown",
   "id": "667b7595-d903-42c8-b1d9-1c1dba20abd1",
   "metadata": {},
   "source": [
    "* ### Important ML Model libraries import"
   ]
  },
  {
   "cell_type": "code",
   "execution_count": 11,
   "id": "fff5bb2d-425d-4c19-aa93-dea46fc08734",
   "metadata": {},
   "outputs": [],
   "source": [
    "from sklearn.linear_model import LogisticRegression\n",
    "from sklearn.svm import SVC\n",
    "from sklearn.ensemble import RandomForestClassifier\n",
    "from sklearn.naive_bayes import GaussianNB\n",
    "from xgboost import XGBClassifier\n",
    "from sklearn.metrics import accuracy_score"
   ]
  },
  {
   "cell_type": "code",
   "execution_count": 12,
   "id": "97b7585b-0c00-4d87-974c-7b329f99f112",
   "metadata": {},
   "outputs": [],
   "source": [
    "models = {\n",
    "    'Logistic Regression' : LogisticRegression(max_iter=1000),\n",
    "    'SVC' : SVC(),\n",
    "    'Random Forest' : RandomForestClassifier(),\n",
    "    'Naive Bayes' : GaussianNB(),\n",
    "    'XGBoost' : XGBClassifier()\n",
    "}"
   ]
  },
  {
   "cell_type": "code",
   "execution_count": 24,
   "id": "1dc931c2-9c29-4351-84ea-0e4db0ee8510",
   "metadata": {},
   "outputs": [
    {
     "name": "stdout",
     "output_type": "stream",
     "text": [
      "-----------------------------------------------------\n",
      "Model Trained\n",
      "Accuracy of Logistic Regression : 96.36%\n",
      "-----------------------------------------------------\n",
      "Model Trained\n",
      "Accuracy of SVC : 97.95%\n",
      "-----------------------------------------------------\n",
      "Model Trained\n",
      "Accuracy of Random Forest : 99.32%\n",
      "-----------------------------------------------------\n",
      "Model Trained\n",
      "Accuracy of Naive Bayes : 99.55%\n",
      "-----------------------------------------------------\n",
      "Model Trained\n",
      "Accuracy of XGBoost : 98.86%\n"
     ]
    }
   ],
   "source": [
    "accuracy_dict = {}\n",
    "\n",
    "for name, model in models.items():\n",
    "    # Model Training\n",
    "    model.fit(X_train, y_train)\n",
    "\n",
    "    pred = model.predict(X_test)\n",
    "\n",
    "    # Accuracy \n",
    "    accuracy = accuracy_score(y_test, pred) * 100\n",
    "\n",
    "    # Storing in dictionary\n",
    "    accuracy_dict[name] = accuracy\n",
    "    print('-----------------------------------------------------')\n",
    "    print(f\"Model Trained\\nAccuracy of {name} : {accuracy:.2f}%\")"
   ]
  },
  {
   "cell_type": "code",
   "execution_count": 25,
   "id": "5e2c1edf-5567-45b0-864d-2fd3399388f5",
   "metadata": {},
   "outputs": [
    {
     "data": {
      "text/plain": [
       "{'Logistic Regression': 96.36363636363636,\n",
       " 'SVC': 97.95454545454545,\n",
       " 'Random Forest': 99.31818181818181,\n",
       " 'Naive Bayes': 99.54545454545455,\n",
       " 'XGBoost': 98.86363636363636}"
      ]
     },
     "execution_count": 25,
     "metadata": {},
     "output_type": "execute_result"
    }
   ],
   "source": [
    "accuracy_dict"
   ]
  },
  {
   "cell_type": "code",
   "execution_count": 31,
   "id": "dbddc37d-1628-4bd6-9d87-ffa3891dd813",
   "metadata": {},
   "outputs": [
    {
     "data": {
      "text/html": [
       "<div>\n",
       "<style scoped>\n",
       "    .dataframe tbody tr th:only-of-type {\n",
       "        vertical-align: middle;\n",
       "    }\n",
       "\n",
       "    .dataframe tbody tr th {\n",
       "        vertical-align: top;\n",
       "    }\n",
       "\n",
       "    .dataframe thead th {\n",
       "        text-align: right;\n",
       "    }\n",
       "</style>\n",
       "<table border=\"1\" class=\"dataframe\">\n",
       "  <thead>\n",
       "    <tr style=\"text-align: right;\">\n",
       "      <th></th>\n",
       "      <th>Model Name</th>\n",
       "      <th>Accuracy</th>\n",
       "    </tr>\n",
       "  </thead>\n",
       "  <tbody>\n",
       "    <tr>\n",
       "      <th>0</th>\n",
       "      <td>Logistic Regression</td>\n",
       "      <td>96.363636</td>\n",
       "    </tr>\n",
       "    <tr>\n",
       "      <th>1</th>\n",
       "      <td>SVC</td>\n",
       "      <td>97.954545</td>\n",
       "    </tr>\n",
       "    <tr>\n",
       "      <th>2</th>\n",
       "      <td>Random Forest</td>\n",
       "      <td>99.318182</td>\n",
       "    </tr>\n",
       "    <tr>\n",
       "      <th>3</th>\n",
       "      <td>Naive Bayes</td>\n",
       "      <td>99.545455</td>\n",
       "    </tr>\n",
       "    <tr>\n",
       "      <th>4</th>\n",
       "      <td>XGBoost</td>\n",
       "      <td>98.863636</td>\n",
       "    </tr>\n",
       "  </tbody>\n",
       "</table>\n",
       "</div>"
      ],
      "text/plain": [
       "            Model Name   Accuracy\n",
       "0  Logistic Regression  96.363636\n",
       "1                  SVC  97.954545\n",
       "2        Random Forest  99.318182\n",
       "3          Naive Bayes  99.545455\n",
       "4              XGBoost  98.863636"
      ]
     },
     "execution_count": 31,
     "metadata": {},
     "output_type": "execute_result"
    }
   ],
   "source": [
    "accuracy_df = pd.DataFrame(list(accuracy_dict.items()), columns=['Model Name', 'Accuracy'])\n",
    "\n",
    "accuracy_df"
   ]
  },
  {
   "cell_type": "markdown",
   "id": "70f0c55e-4c8e-441b-bd61-ffed471f8fe9",
   "metadata": {},
   "source": [
    "* ### Plotting Accuracy"
   ]
  },
  {
   "cell_type": "code",
   "execution_count": 51,
   "id": "939890e8-0b15-4e66-b5f6-591dd4486140",
   "metadata": {},
   "outputs": [
    {
     "data": {
      "image/png": "[encoded data removed]",
      "text/plain": [
       "<Figure size 1400x800 with 1 Axes>"
      ]
     },
     "metadata": {},
     "output_type": "display_data"
    }
   ],
   "source": [
    "plt.figure(figsize=(14, 8))\n",
    "# Barplot\n",
    "sns.barplot(\n",
    "    x='Model Name',\n",
    "    y='Accuracy',\n",
    "    data=accuracy_df,\n",
    "    palette='viridis'\n",
    ")\n",
    "\n",
    "# Add value labels on top of each bar\n",
    "for i, row in accuracy_df.iterrows():\n",
    "    plt.text(\n",
    "        x=i,\n",
    "        y=row['Accuracy'] + 0.7,\n",
    "        s=f\"{row['Accuracy']:.2f}%\",\n",
    "        ha='center',\n",
    "        fontsize=12,\n",
    "        fontweight='bold',\n",
    "        color='black'\n",
    "    )\n",
    "\n",
    "# Styling\n",
    "plt.title('Accuracy of Different Models', fontsize=20, fontweight='bold', pad=20)\n",
    "plt.xlabel('\\nModel Name', fontsize=14, fontweight='bold')\n",
    "plt.ylabel('Accuracy (%)', fontsize=14, fontweight='bold')\n",
    "plt.xticks(rotation=0, fontsize=12)\n",
    "plt.yticks(fontsize=12)\n",
    "plt.grid(axis='y', linestyle='--', color='black', alpha=0.4)\n",
    "plt.tight_layout()\n",
    "plt.show()\n"
   ]
  },
  {
   "cell_type": "markdown",
   "id": "25382650-a020-4c9c-a62f-509b6481c183",
   "metadata": {},
   "source": [
    "* ### Checking a confusion matrix"
   ]
  },
  {
   "cell_type": "code",
   "execution_count": 61,
   "id": "01c54bf9-e7bb-475b-98a1-41eb2eb0be01",
   "metadata": {},
   "outputs": [
    {
     "name": "stdout",
     "output_type": "stream",
     "text": [
      "Classification report ->\n",
      "              precision    recall  f1-score   support\n",
      "\n",
      "           0       1.00      1.00      1.00        23\n",
      "           1       1.00      1.00      1.00        21\n",
      "           2       1.00      1.00      1.00        20\n",
      "           3       1.00      1.00      1.00        26\n",
      "           4       1.00      1.00      1.00        27\n",
      "           5       1.00      1.00      1.00        17\n",
      "           6       1.00      1.00      1.00        17\n",
      "           7       1.00      1.00      1.00        14\n",
      "           8       1.00      0.92      0.96        25\n",
      "           9       1.00      1.00      1.00        20\n",
      "          10       1.00      1.00      1.00        11\n",
      "          11       1.00      1.00      1.00        21\n",
      "          12       1.00      1.00      1.00        19\n",
      "          13       1.00      1.00      1.00        24\n",
      "          14       1.00      1.00      1.00        19\n",
      "          15       1.00      1.00      1.00        17\n",
      "          16       1.00      1.00      1.00        14\n",
      "          17       1.00      1.00      1.00        23\n",
      "          18       1.00      1.00      1.00        23\n",
      "          19       1.00      1.00      1.00        23\n",
      "          20       0.89      1.00      0.94        17\n",
      "          21       1.00      1.00      1.00        19\n",
      "\n",
      "    accuracy                           1.00       440\n",
      "   macro avg       1.00      1.00      1.00       440\n",
      "weighted avg       1.00      1.00      1.00       440\n",
      "\n",
      "Confusion matrix ->\n",
      "[[23  0  0  0  0  0  0  0  0  0  0  0  0  0  0  0  0  0  0  0  0  0]\n",
      " [ 0 21  0  0  0  0  0  0  0  0  0  0  0  0  0  0  0  0  0  0  0  0]\n",
      " [ 0  0 20  0  0  0  0  0  0  0  0  0  0  0  0  0  0  0  0  0  0  0]\n",
      " [ 0  0  0 26  0  0  0  0  0  0  0  0  0  0  0  0  0  0  0  0  0  0]\n",
      " [ 0  0  0  0 27  0  0  0  0  0  0  0  0  0  0  0  0  0  0  0  0  0]\n",
      " [ 0  0  0  0  0 17  0  0  0  0  0  0  0  0  0  0  0  0  0  0  0  0]\n",
      " [ 0  0  0  0  0  0 17  0  0  0  0  0  0  0  0  0  0  0  0  0  0  0]\n",
      " [ 0  0  0  0  0  0  0 14  0  0  0  0  0  0  0  0  0  0  0  0  0  0]\n",
      " [ 0  0  0  0  0  0  0  0 23  0  0  0  0  0  0  0  0  0  0  0  2  0]\n",
      " [ 0  0  0  0  0  0  0  0  0 20  0  0  0  0  0  0  0  0  0  0  0  0]\n",
      " [ 0  0  0  0  0  0  0  0  0  0 11  0  0  0  0  0  0  0  0  0  0  0]\n",
      " [ 0  0  0  0  0  0  0  0  0  0  0 21  0  0  0  0  0  0  0  0  0  0]\n",
      " [ 0  0  0  0  0  0  0  0  0  0  0  0 19  0  0  0  0  0  0  0  0  0]\n",
      " [ 0  0  0  0  0  0  0  0  0  0  0  0  0 24  0  0  0  0  0  0  0  0]\n",
      " [ 0  0  0  0  0  0  0  0  0  0  0  0  0  0 19  0  0  0  0  0  0  0]\n",
      " [ 0  0  0  0  0  0  0  0  0  0  0  0  0  0  0 17  0  0  0  0  0  0]\n",
      " [ 0  0  0  0  0  0  0  0  0  0  0  0  0  0  0  0 14  0  0  0  0  0]\n",
      " [ 0  0  0  0  0  0  0  0  0  0  0  0  0  0  0  0  0 23  0  0  0  0]\n",
      " [ 0  0  0  0  0  0  0  0  0  0  0  0  0  0  0  0  0  0 23  0  0  0]\n",
      " [ 0  0  0  0  0  0  0  0  0  0  0  0  0  0  0  0  0  0  0 23  0  0]\n",
      " [ 0  0  0  0  0  0  0  0  0  0  0  0  0  0  0  0  0  0  0  0 17  0]\n",
      " [ 0  0  0  0  0  0  0  0  0  0  0  0  0  0  0  0  0  0  0  0  0 19]]\n"
     ]
    }
   ],
   "source": [
    "from sklearn.metrics import classification_report, confusion_matrix\n",
    "\n",
    "naive_bayes = GaussianNB()\n",
    "\n",
    "naive_bayes.fit(X_train, y_train)\n",
    "\n",
    "y_pred = naive_bayes.predict(X_test)\n",
    "\n",
    "print(f\"Classification report ->\\n{classification_report(y_pred, y_test)}\")\n",
    "print(f\"Confusion matrix ->\\n{confusion_matrix(y_pred, y_test)}\")"
   ]
  },
  {
   "cell_type": "markdown",
   "id": "2aedb533-57fe-4994-9e25-16a7c52c9ab6",
   "metadata": {},
   "source": [
    "* ### Save Models as .pkl"
   ]
  },
  {
   "cell_type": "code",
   "execution_count": 52,
   "id": "74f8e00d-9da4-413e-9453-ee2bde946f16",
   "metadata": {},
   "outputs": [
    {
     "name": "stdout",
     "output_type": "stream",
     "text": [
      "✅ Logistic Regression saved successfully at: Saved_Models\\Logistic Regression.pkl\n",
      "✅ SVC saved successfully at: Saved_Models\\SVC.pkl\n",
      "✅ Random Forest saved successfully at: Saved_Models\\Random Forest.pkl\n",
      "✅ Naive Bayes saved successfully at: Saved_Models\\Naive Bayes.pkl\n",
      "✅ XGBoost saved successfully at: Saved_Models\\XGBoost.pkl\n"
     ]
    }
   ],
   "source": [
    "import joblib\n",
    "import os\n",
    "\n",
    "# Create a folder to save models\n",
    "save_dir = 'Saved_Models'\n",
    "os.makedirs(save_dir, exist_ok=True)\n",
    "\n",
    "# Save each model using joblib\n",
    "for name, model in models.items():\n",
    "    model_path = os.path.join(save_dir, f'{name}.pkl')\n",
    "    joblib.dump(model, model_path)\n",
    "    print(f\"✅ {name} saved successfully at: {model_path}\")\n"
   ]
  },
  {
   "cell_type": "code",
   "execution_count": null,
   "id": "dd531d30-8af8-438e-8ed4-f32d36a6a06f",
   "metadata": {},
   "outputs": [],
   "source": []
  }
 ],
 "metadata": {
  "kernelspec": {
   "display_name": "Python 3 (ipykernel)",
   "language": "python",
   "name": "python3"
  },
  "language_info": {
   "codemirror_mode": {
    "name": "ipython",
    "version": 3
   },
   "file_extension": ".py",
   "mimetype": "text/x-python",
   "name": "python",
   "nbconvert_exporter": "python",
   "pygments_lexer": "ipython3",
   "version": "3.12.4"
  }
 },
 "nbformat": 4,
 "nbformat_minor": 5
}
