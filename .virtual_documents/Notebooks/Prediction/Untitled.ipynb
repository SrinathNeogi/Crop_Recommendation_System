import pandas as pd


df = pd.read_csv('Cleaned_dataset.csv')

df.columns


data = pd.read_csv('State_District_Crop_Data.csv')

data





from collections import Counter
import joblib
import os
import numpy as np

# Input from user
print("--Enter Soil and Climate Details--\n")
try:
    N = float(input("Nitrogen (N): "))
    P = float(input("Phosphorus (P): "))
    K = float(input("Potassium (K): "))
    temperature = float(input("Temperature (°C): "))
    humidity = float(input("Humidity (%): "))
    ph = float(input("pH level: "))
    rainfall = float(input("Rainfall (mm): "))
except ValueError:
    print("⚠️ Please enter valid numeric values.")
    exit()

# Combine into a feature array
features = np.array([[N, P, K, temperature, humidity, ph, rainfall]])

# Folder containing saved models
MODEL_FOLDER = 'Saved_models'

predictions = []

print("\n📊 Predictions from all models:\n")

for file in os.listdir(MODEL_FOLDER):
    if file.endswith('.pkl'):
        model_name = file.replace('.pkl', '').replace('_', ' ')
        model_path = os.path.join(MODEL_FOLDER, file)

        model = joblib.load(model_path)
        pred = model.predict(features)[0]

        predictions.append(pred)
        print(f"{model_name:<25}: Predicted label -> {pred}")

# Voting
vote_count = Counter(predictions)
most_common = vote_count.most_common()

print("\n🌾 Final Recommendation:")
print(f"✅ Best Label : {most_common[0][0]} (Votes: {most_common[0][1]})")

if len(most_common) > 1:
    print(f"🌿 Second Best: {most_common[1][0]} (Votes: {most_common[1][1]})")




