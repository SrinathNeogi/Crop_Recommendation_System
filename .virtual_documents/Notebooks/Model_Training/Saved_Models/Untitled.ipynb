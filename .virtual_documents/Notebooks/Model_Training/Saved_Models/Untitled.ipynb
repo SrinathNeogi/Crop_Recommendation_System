import os

for filename in os.listdir():
    if filename.endswith('.pkl'):
        new_name = filename.lower().replace(' ', '_')
        if filename != new_name:
            os.rename(filename, new_name)
            print(f"Renamed: {filename} → {new_name}")





