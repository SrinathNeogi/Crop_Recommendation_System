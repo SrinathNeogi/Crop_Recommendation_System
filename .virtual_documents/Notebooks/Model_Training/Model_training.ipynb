import numpy as np
import pandas as pd
import matplotlib.pyplot as plt
import seaborn as sns

import warnings
warnings.filterwarnings('ignore')


data = pd.read_csv('Cleaned_dataset.csv')

data





X = data.drop('label', axis=1)
y = data['label']





from sklearn.model_selection import train_test_split

X_train, X_test, y_train, y_test = train_test_split(X, y, test_size=0.2, random_state=42)

print("Train Test Split successful!")
print(X_train.shape, X_test.shape)





from sklearn.linear_model import LogisticRegression
from sklearn.svm import SVC
from sklearn.ensemble import RandomForestClassifier
from sklearn.naive_bayes import GaussianNB
from xgboost import XGBClassifier
from sklearn.metrics import accuracy_score


models = {
    'Logistic Regression' : LogisticRegression(max_iter=1000),
    'SVC' : SVC(),
    'Random Forest' : RandomForestClassifier(),
    'Naive Bayes' : GaussianNB(),
    'XGBoost' : XGBClassifier()
}


accuracy_dict = {}

for name, model in models.items():
    # Model Training
    model.fit(X_train, y_train)

    pred = model.predict(X_test)

    # Accuracy 
    accuracy = accuracy_score(y_test, pred) * 100

    # Storing in dictionary
    accuracy_dict[name] = accuracy
    print('-----------------------------------------------------')
    print(f"Model Trained\nAccuracy of {name} : {accuracy:.2f}%")


accuracy_dict


accuracy_df = pd.DataFrame(list(accuracy_dict.items()), columns=['Model Name', 'Accuracy'])

accuracy_df





plt.figure(figsize=(14, 8))
# Barplot
sns.barplot(
    x='Model Name',
    y='Accuracy',
    data=accuracy_df,
    palette='viridis'
)

# Add value labels on top of each bar
for i, row in accuracy_df.iterrows():
    plt.text(
        x=i,
        y=row['Accuracy'] + 0.7,
        s=f"{row['Accuracy']:.2f}%",
        ha='center',
        fontsize=12,
        fontweight='bold',
        color='black'
    )

# Styling
plt.title('Accuracy of Different Models', fontsize=20, fontweight='bold', pad=20)
plt.xlabel('\nModel Name', fontsize=14, fontweight='bold')
plt.ylabel('Accuracy (%)', fontsize=14, fontweight='bold')
plt.xticks(rotation=0, fontsize=12)
plt.yticks(fontsize=12)
plt.grid(axis='y', linestyle='--', color='black', alpha=0.4)
plt.tight_layout()
plt.show()






import joblib
import os

# Create a folder to save models
save_dir = 'Saved_Models'
os.makedirs(save_dir, exist_ok=True)

# Save each model using joblib
for name, model in models.items():
    model_path = os.path.join(save_dir, f'{name}.pkl')
    joblib.dump(model, model_path)
    print(f"✅ {name} saved successfully at: {model_path}")




