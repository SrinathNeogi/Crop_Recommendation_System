import numpy as np
import pandas as pd
import matplotlib.pyplot as plt
import seaborn as sns

import warnings
warnings.filterwarnings('ignore')


raw = pd.read_csv('Crop_recommendation.csv')


raw


raw.label.unique()



