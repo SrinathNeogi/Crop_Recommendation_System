import os
import joblib
import cloudpickle



os.listdir()



model_files = [file for file in os.listdir() if file.endswith('.pkl')]

for file in model_files:
    model = joblib.load(file)
    with open(file, 'wb') as f:
        cloudpickle.dump(model, f)

print("✅ All models have been re-saved using cloudpickle.")



with open('Random Forest.pkl', 'rb') as f:
    model = cloudpickle.load(f)

print(model)



import os

for filename in os.listdir():
    if filename.endswith('.pkl'):
        new_name = filename.lower().replace(' ', '_')
        if filename != new_name:
            os.rename(filename, new_name)
            print(f"Renamed: {filename} → {new_name}")




