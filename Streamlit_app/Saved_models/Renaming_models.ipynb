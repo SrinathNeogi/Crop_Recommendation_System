{
 "cells": [
  {
   "cell_type": "code",
   "execution_count": 1,
   "id": "9a3ac97b-af3b-4870-912b-da7c2d381475",
   "metadata": {},
   "outputs": [],
   "source": [
    "import os\n",
    "import joblib\n",
    "import cloudpickle\n"
   ]
  },
  {
   "cell_type": "code",
   "execution_count": 2,
   "id": "701747fc-1441-46ba-a965-6759c42a153f",
   "metadata": {},
   "outputs": [
    {
     "data": {
      "text/plain": [
       "['.ipynb_checkpoints',\n",
       " 'Logistic Regression.pkl',\n",
       " 'Naive Bayes.pkl',\n",
       " 'Random Forest.pkl',\n",
       " 'SVC.pkl',\n",
       " 'Untitled.ipynb',\n",
       " 'XGBoost.pkl']"
      ]
     },
     "execution_count": 2,
     "metadata": {},
     "output_type": "execute_result"
    }
   ],
   "source": [
    "os.listdir()\n"
   ]
  },
  {
   "cell_type": "code",
   "execution_count": 3,
   "id": "2d7241e8-d248-48b5-a1b6-29da0f326e95",
   "metadata": {},
   "outputs": [
    {
     "name": "stdout",
     "output_type": "stream",
     "text": [
      "✅ All models have been re-saved using cloudpickle.\n"
     ]
    }
   ],
   "source": [
    "model_files = [file for file in os.listdir() if file.endswith('.pkl')]\n",
    "\n",
    "for file in model_files:\n",
    "    model = joblib.load(file)\n",
    "    with open(file, 'wb') as f:\n",
    "        cloudpickle.dump(model, f)\n",
    "\n",
    "print(\"✅ All models have been re-saved using cloudpickle.\")\n"
   ]
  },
  {
   "cell_type": "code",
   "execution_count": 5,
   "id": "b9a87680-81e3-402e-a13c-be4705d27a76",
   "metadata": {},
   "outputs": [
    {
     "name": "stdout",
     "output_type": "stream",
     "text": [
      "RandomForestClassifier()\n"
     ]
    }
   ],
   "source": [
    "with open('Random Forest.pkl', 'rb') as f:\n",
    "    model = cloudpickle.load(f)\n",
    "\n",
    "print(model)\n"
   ]
  },
  {
   "cell_type": "code",
   "execution_count": 6,
   "id": "81a19898-e990-42dd-956c-1716ddaa15c7",
   "metadata": {},
   "outputs": [
    {
     "name": "stdout",
     "output_type": "stream",
     "text": [
      "Renamed: Logistic Regression.pkl → logistic_regression.pkl\n",
      "Renamed: Naive Bayes.pkl → naive_bayes.pkl\n",
      "Renamed: Random Forest.pkl → random_forest.pkl\n",
      "Renamed: SVC.pkl → svc.pkl\n",
      "Renamed: XGBoost.pkl → xgboost.pkl\n"
     ]
    }
   ],
   "source": [
    "import os\n",
    "\n",
    "for filename in os.listdir():\n",
    "    if filename.endswith('.pkl'):\n",
    "        new_name = filename.lower().replace(' ', '_')\n",
    "        if filename != new_name:\n",
    "            os.rename(filename, new_name)\n",
    "            print(f\"Renamed: {filename} → {new_name}\")\n"
   ]
  },
  {
   "cell_type": "code",
   "execution_count": null,
   "id": "75615645-c84e-4f95-865f-e0667515073f",
   "metadata": {},
   "outputs": [],
   "source": []
  }
 ],
 "metadata": {
  "kernelspec": {
   "display_name": "Python 3 (ipykernel)",
   "language": "python",
   "name": "python3"
  },
  "language_info": {
   "codemirror_mode": {
    "name": "ipython",
    "version": 3
   },
   "file_extension": ".py",
   "mimetype": "text/x-python",
   "name": "python",
   "nbconvert_exporter": "python",
   "pygments_lexer": "ipython3",
   "version": "3.12.4"
  }
 },
 "nbformat": 4,
 "nbformat_minor": 5
}
